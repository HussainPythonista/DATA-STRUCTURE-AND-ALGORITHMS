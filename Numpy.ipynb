{
  "nbformat": 4,
  "nbformat_minor": 0,
  "metadata": {
    "colab": {
      "name": "Numpy.ipynb",
      "provenance": [],
      "authorship_tag": "ABX9TyPVFxkH0j0rzY/WluJNxBvX",
      "include_colab_link": true
    },
    "kernelspec": {
      "name": "python3",
      "display_name": "Python 3"
    }
  },
  "cells": [
    {
      "cell_type": "markdown",
      "metadata": {
        "id": "view-in-github",
        "colab_type": "text"
      },
      "source": [
        "<a href=\"https://colab.research.google.com/github/HussainPythonista/DATA-STRUCTURE-AND-ALGORITHMS/blob/master/Numpy.ipynb\" target=\"_parent\"><img src=\"https://colab.research.google.com/assets/colab-badge.svg\" alt=\"Open In Colab\"/></a>"
      ]
    },
    {
      "cell_type": "markdown",
      "metadata": {
        "id": "1g-JiJcR0Kls"
      },
      "source": [
        ""
      ]
    },
    {
      "cell_type": "code",
      "metadata": {
        "colab": {
          "base_uri": "https://localhost:8080/"
        },
        "id": "tkk0LaZYxFy0",
        "outputId": "5be99f55-e283-4708-cc7e-3cc4fa06f283"
      },
      "source": [
        "import numpy as np\n",
        "arangeValue=np.arange(1,10,2,dtype=\"complex\")#It is like a range function in list\n",
        "zeroValue=np.zeros((5,2),dtype=\"int\")#It will return the number of zeros\n",
        "print(arangeValue)\n",
        "print(zeroValue)"
      ],
      "execution_count": 15,
      "outputs": [
        {
          "output_type": "stream",
          "text": [
            "[1.+0.j 3.+0.j 5.+0.j 7.+0.j 9.+0.j]\n",
            "[[0 0]\n",
            " [0 0]\n",
            " [0 0]\n",
            " [0 0]\n",
            " [0 0]]\n"
          ],
          "name": "stdout"
        }
      ]
    }
  ]
}